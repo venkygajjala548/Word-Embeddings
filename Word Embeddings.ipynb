{
 "cells": [
  {
   "cell_type": "code",
   "execution_count": 1,
   "metadata": {},
   "outputs": [],
   "source": [
    "import re\n",
    "import os\n",
    "import nltk\n",
    "import string\n",
    "from nltk import word_tokenize\n",
    "from nltk.corpus import stopwords\n",
    "from nltk.stem.wordnet import WordNetLemmatizer\n",
    "lem = WordNetLemmatizer()\n",
    "stopwords = set(stopwords.words('english'))\n",
    "import warnings\n",
    "warnings.filterwarnings('ignore')"
   ]
  },
  {
   "cell_type": "code",
   "execution_count": 2,
   "metadata": {},
   "outputs": [],
   "source": [
    "# load doc into memory\n",
    "\n",
    "def load_doc(filename):\n",
    "    file = open(filename, 'r' )\n",
    "    text = file.readlines()\n",
    "    file.close()\n",
    "    return text"
   ]
  },
  {
   "cell_type": "code",
   "execution_count": 3,
   "metadata": {},
   "outputs": [],
   "source": [
    "# clean the docs\n",
    "\n",
    "corpus = []\n",
    "def clean_doc(doc):\n",
    "    \n",
    "    for line in doc:\n",
    "        line = line.lower()\n",
    "        line = re.sub('\\W+',' ',line)\n",
    "        line = re.sub('[0-9]','',line)\n",
    "        line = line.split()\n",
    "        re_punc = re.compile( '[%s]' % re.escape(string.punctuation))    # remove punctuation from each word\n",
    "        line = [re_punc.sub('', w) for w in line]\n",
    "        line = [lem.lemmatize(item) for item in line if item not in stopwords]\n",
    "        if len(line)>1:\n",
    "            corpus.append(line)\n",
    "    return corpus\n",
    "    "
   ]
  },
  {
   "cell_type": "code",
   "execution_count": 4,
   "metadata": {},
   "outputs": [],
   "source": [
    "# load doc and add to vocab\n",
    "\n",
    "def add_doc(filename):\n",
    "    doc = load_doc(filename)\n",
    "    tokens = clean_doc(doc)"
   ]
  },
  {
   "cell_type": "code",
   "execution_count": 5,
   "metadata": {},
   "outputs": [],
   "source": [
    "# load all docs in a directory\n",
    "\n",
    "def process_docs(directory):\n",
    "    for filename in os.listdir(directory):\n",
    "        if filename.endswith(\".txt\"):\n",
    "            path = directory + '/' + filename\n",
    "            print(filename)\n",
    "            add_doc(path)"
   ]
  },
  {
   "cell_type": "code",
   "execution_count": 6,
   "metadata": {},
   "outputs": [
    {
     "name": "stdout",
     "output_type": "stream",
     "text": [
      "Organic Gardening for Dummies ( PDFDrive.com ).txt\n",
      "The Tiger A True Story of Vengeance and Survival ( PDFDrive.com ).txt\n",
      "Things That Matter Three Decades of Passions, Pastimes and Politics ( PDFDrive.com ).txt\n",
      "Mother Teresa - A Biography ( PDFDrive.com ).txt\n",
      "When-the-Moon-Split.txt\n",
      "rachel-g-ultimate-pleasure.txt\n",
      "Mindset The New Psychology of Success ( PDFDrive.com ).txt\n",
      "ChangeYourMindSetChangeYourLife.txt\n",
      "One_Indian_Girl_-_Chetan_Bhagat-Redicals.txt\n",
      "Chetan Bhagat -three mistakes of my life.txt\n",
      "Ferguson,S_2016_01Thesis.txt\n",
      "RH_StudyGuide_V2.txt\n",
      "Gandhi-Truth.txt\n",
      "How to Study 7th Edition ( PDFDrive.com ).txt\n",
      "The ONE Thing_ The Surprisingly Simple Truth Behind Extraordinary Results ( PDFDrive.com ).txt\n",
      "mens-from-mars-and-women-from-venus.txt\n",
      "893710PUB0978000Box385270B00PUBLIC0.txt\n",
      "Weeks_duke_0066D_12104.txt\n",
      "No-Drama Discipline_ The Whole-Brain Way to Calm the Chaos and Nurture Your Child's Developing Mind ( PDFDrive.com ).txt\n",
      "Encyclopedia.of.Computer.Science.and.Technology.txt\n",
      "Half Girlfriend by Chetan Bhagat ( PDFDrive.com ).txt\n",
      "It IS About Islam_ Exposing the Truth About ISIS, Al Qaeda, Iran, and the Caliphate ( PDFDrive.com ).txt\n"
     ]
    }
   ],
   "source": [
    "# address of directory\n",
    "import key_value\n",
    "process_docs(key_value.name())"
   ]
  },
  {
   "cell_type": "code",
   "execution_count": 7,
   "metadata": {},
   "outputs": [
    {
     "name": "stdout",
     "output_type": "stream",
     "text": [
      "Word2Vec(vocab=42440, size=64, alpha=0.025)\n"
     ]
    }
   ],
   "source": [
    "import gensim\n",
    "from gensim import models,similarities\n",
    "\n",
    "model = gensim.models.Word2Vec(corpus,min_count=1,size=64)\n",
    "\n",
    "print(model)"
   ]
  },
  {
   "cell_type": "code",
   "execution_count": 8,
   "metadata": {},
   "outputs": [
    {
     "data": {
      "text/plain": [
       "array([-1.6518737 , -2.1981263 , -1.9133791 ,  0.15294759, -1.2030056 ,\n",
       "       -0.28496546,  0.6063206 , -0.81013066,  1.1037588 , -0.24949642,\n",
       "       -0.5585661 , -0.5423149 ,  1.1320779 , -0.06145406,  0.73933095,\n",
       "       -1.1223848 ,  0.25374115, -0.58060175,  1.2777963 , -1.5690434 ,\n",
       "        0.16475964,  0.09421255, -0.97396994,  0.09746608,  1.940637  ,\n",
       "       -0.22116935, -0.14748366,  0.69255704, -0.65960294, -0.3173298 ,\n",
       "        1.107673  , -0.27026108, -1.3430306 ,  2.2540717 ,  0.58402795,\n",
       "        2.265656  ,  0.03685576,  0.89537543,  0.00950325, -0.05941782,\n",
       "       -1.9887359 ,  0.8489797 , -1.4636148 ,  1.3109413 , -0.65302694,\n",
       "        2.1872344 ,  0.06772655,  2.5641725 , -1.234734  , -0.22005078,\n",
       "       -2.4066355 ,  2.5009313 ,  0.4318715 , -0.00294682, -0.5765482 ,\n",
       "       -0.14061774, -1.2782089 ,  0.9127481 ,  0.02940534, -0.33107382,\n",
       "       -0.94377047,  1.3139412 , -1.3114038 , -1.5530771 ], dtype=float32)"
      ]
     },
     "execution_count": 8,
     "metadata": {},
     "output_type": "execute_result"
    }
   ],
   "source": [
    "model['computer']"
   ]
  },
  {
   "cell_type": "code",
   "execution_count": 9,
   "metadata": {},
   "outputs": [
    {
     "data": {
      "text/plain": [
       "[('computing', 0.8329066038131714),\n",
       " ('ibm', 0.8189114332199097),\n",
       " ('pc', 0.7841338515281677),\n",
       " ('izvestia', 0.7793196439743042),\n",
       " ('fiction', 0.7633252143859863),\n",
       " ('machine', 0.7569179534912109),\n",
       " ('modernized', 0.7389810681343079),\n",
       " ('developed', 0.734626293182373),\n",
       " ('early', 0.7314069867134094),\n",
       " ('engineering', 0.7308560013771057)]"
      ]
     },
     "execution_count": 9,
     "metadata": {},
     "output_type": "execute_result"
    }
   ],
   "source": [
    "model.most_similar('computer')"
   ]
  },
  {
   "cell_type": "code",
   "execution_count": 10,
   "metadata": {},
   "outputs": [
    {
     "data": {
      "text/plain": [
       "[('father', 0.9045995473861694),\n",
       " ('piyush', 0.8622521758079529),\n",
       " ('went', 0.8585547208786011),\n",
       " ('riya', 0.8568027019500732),\n",
       " ('teresa', 0.855566143989563),\n",
       " ('left', 0.8404535055160522),\n",
       " ('mr', 0.8379864692687988),\n",
       " ('harrison', 0.8360644578933716),\n",
       " ('saw', 0.8329075574874878),\n",
       " ('vera', 0.8326776623725891)]"
      ]
     },
     "execution_count": 10,
     "metadata": {},
     "output_type": "execute_result"
    }
   ],
   "source": [
    "model.most_similar('mother')"
   ]
  },
  {
   "cell_type": "code",
   "execution_count": 11,
   "metadata": {},
   "outputs": [
    {
     "data": {
      "text/plain": [
       "[('menu', 0.9957362413406372),\n",
       " ('signal', 0.9952731728553772),\n",
       " ('button', 0.9952691197395325),\n",
       " ('drainage', 0.9951426982879639),\n",
       " ('fed', 0.9944037795066833),\n",
       " ('clay', 0.993943452835083),\n",
       " ('boot', 0.9937978386878967),\n",
       " ('flash', 0.9937520623207092),\n",
       " ('attached', 0.9937213659286499),\n",
       " ('traffic', 0.9935844540596008)]"
      ]
     },
     "execution_count": 11,
     "metadata": {},
     "output_type": "execute_result"
    }
   ],
   "source": [
    "model.most_similar('mouse')"
   ]
  },
  {
   "cell_type": "code",
   "execution_count": 25,
   "metadata": {},
   "outputs": [
    {
     "data": {
      "text/plain": [
       "[('england', 0.9581458568572998),\n",
       " ('team', 0.9494528770446777),\n",
       " ('late', 0.9464187622070312),\n",
       " ('lived', 0.9455425143241882),\n",
       " ('house', 0.9438550472259521),\n",
       " ('began', 0.940723717212677),\n",
       " ('meeting', 0.9395503401756287),\n",
       " ('basketball', 0.9358711242675781),\n",
       " ('delhi', 0.9350549578666687),\n",
       " ('nearest', 0.933635950088501)]"
      ]
     },
     "execution_count": 25,
     "metadata": {},
     "output_type": "execute_result"
    }
   ],
   "source": [
    "model.most_similar('india')"
   ]
  },
  {
   "cell_type": "code",
   "execution_count": 13,
   "metadata": {},
   "outputs": [
    {
     "data": {
      "text/plain": [
       "[('lesson', 0.9824722409248352),\n",
       " ('necessary', 0.9799172878265381),\n",
       " ('learned', 0.9797968864440918),\n",
       " ('perhaps', 0.9796440601348877),\n",
       " ('achieve', 0.9796432256698608),\n",
       " ('choice', 0.9795761108398438),\n",
       " ('studying', 0.9793730974197388),\n",
       " ('begin', 0.9793028831481934),\n",
       " ('effort', 0.9778130650520325),\n",
       " ('priority', 0.9777208566665649)]"
      ]
     },
     "execution_count": 13,
     "metadata": {},
     "output_type": "execute_result"
    }
   ],
   "source": [
    "model.most_similar('success')"
   ]
  },
  {
   "cell_type": "code",
   "execution_count": 14,
   "metadata": {},
   "outputs": [
    {
     "data": {
      "text/plain": [
       "[('idea', 0.9390755891799927),\n",
       " ('kind', 0.9233367443084717),\n",
       " ('habit', 0.917172908782959),\n",
       " ('learn', 0.9162617921829224),\n",
       " ('problem', 0.9152672290802002),\n",
       " ('deal', 0.9138145446777344),\n",
       " ('difficult', 0.9093743562698364),\n",
       " ('develop', 0.9072260856628418),\n",
       " ('effort', 0.9056771993637085),\n",
       " ('discipline', 0.9050842523574829)]"
      ]
     },
     "execution_count": 14,
     "metadata": {},
     "output_type": "execute_result"
    }
   ],
   "source": [
    "model.most_similar('mind')"
   ]
  }
 ],
 "metadata": {
  "kernelspec": {
   "display_name": "Python 3",
   "language": "python",
   "name": "python3"
  },
  "language_info": {
   "codemirror_mode": {
    "name": "ipython",
    "version": 3
   },
   "file_extension": ".py",
   "mimetype": "text/x-python",
   "name": "python",
   "nbconvert_exporter": "python",
   "pygments_lexer": "ipython3",
   "version": "3.6.8"
  }
 },
 "nbformat": 4,
 "nbformat_minor": 2
}
